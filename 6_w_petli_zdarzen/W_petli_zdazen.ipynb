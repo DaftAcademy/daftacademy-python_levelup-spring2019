{
 "cells": [
  {
   "cell_type": "markdown",
   "metadata": {
    "slideshow": {
     "slide_type": "slide"
    }
   },
   "source": [
    "![Logo kursu Python Level Up](https://raw.githubusercontent.com/daftcode/daftacademy-python_levelup-spring2019/master/logo.png)"
   ]
  },
  {
   "cell_type": "markdown",
   "metadata": {
    "slideshow": {
     "slide_type": "slide"
    }
   },
   "source": [
    "![Plan zajęć](https://raw.githubusercontent.com/daftcode/daftacademy-python_levelup-spring2019/master/plan_zajec.jpg)"
   ]
  },
  {
   "cell_type": "markdown",
   "metadata": {
    "slideshow": {
     "slide_type": "slide"
    }
   },
   "source": [
    "# SELECT Python\n",
    "## Asyncio\n",
    "### Wojciech Łuszczyński\n",
    "#### Python level UP 15.04.2019"
   ]
  },
  {
   "cell_type": "markdown",
   "metadata": {
    "slideshow": {
     "slide_type": "slide"
    }
   },
   "source": [
    "# Gdzie na mapie leży AsyncIO"
   ]
  },
  {
   "cell_type": "markdown",
   "metadata": {
    "slideshow": {
     "slide_type": "subslide"
    }
   },
   "source": [
    "## Znane podejścia:\n",
    "- Concurrency (Threading) - równoległe\n",
    "- Parallelism (Multiprocessing) - współbieżne i równoległe\n",
    "\n",
    "> Współbieżność i równoległość to obszerne tematy, które nie są łatwe do pojęcia.\n",
    "\n",
    "## Nowy gracz w polu\n",
    "- Asynchronus (Asyncio) - daje wrażenie współbieżności ..."
   ]
  },
  {
   "cell_type": "markdown",
   "metadata": {
    "slideshow": {
     "slide_type": "subslide"
    }
   },
   "source": [
    "## AsyncIO\n",
    "- Jednoprocesowe\n",
    "- Jednowątkowe\n",
    "- Współbieżność osiągnięta dzięki korutynom (corutine) w mechaniźmie pętli zdarzeń.\n",
    "- Asyncio to styl programowania współbieżnego, ale nie jest to równoległość. "
   ]
  },
  {
   "cell_type": "markdown",
   "metadata": {
    "slideshow": {
     "slide_type": "slide"
    }
   },
   "source": [
    "# Programowanie asyncio - po co to komu?"
   ]
  },
  {
   "cell_type": "markdown",
   "metadata": {
    "slideshow": {
     "slide_type": "subslide"
    }
   },
   "source": [
    "## Pytanie: Co jeszcze da się zoptymalizować w pythonie ?\n",
    "\n",
    "Trzeba sobie zdać sprawę z tego, że procesory są bardzo szybkie.\n",
    "Dane wewnątrz struktur procesora przetwarzają się o rząd wielkości szybciej niż dostęp do pamięci ram.\n",
    "Dostęp do świata zewnętrznego, dyski (nawet ssd), sieć, to są kolejne rzędy wielkości wolniej.\n",
    "W związku z tym, w programach, które komunikują się z siecią, dyskiem, bazą danych itp, procesor głównie czeka (idle time). "
   ]
  },
  {
   "cell_type": "markdown",
   "metadata": {
    "slideshow": {
     "slide_type": "subslide"
    }
   },
   "source": [
    "## Jak odzyskać stracony czas\n",
    "\n",
    "Stracony czas (oczekiwanie na synchronizację danych) można odzyskać. Możemy użyć \"klasycznych\" rozwiązań, czyli wielowątkowości lub wieloprocesowosći. Jednak te technologie wiążą się ze stosunkowo dużym kosztem przełączania procesów (switching context). Problem ten wzrasta wraz z obciążeniem systemu. Przy dużej ilości procesów, zaczyna być kosztowny, a także może stanowić główny czas pracy programu. "
   ]
  },
  {
   "cell_type": "markdown",
   "metadata": {
    "slideshow": {
     "slide_type": "subslide"
    }
   },
   "source": [
    "Rozwiązaniem problemu przełączania jest eliminacja przełączania procesów. Ideą programowania asynchronicznego jest cykliczne wywoływanie procedur w pętli zdarzeń. W jednym procesie, bez narzutu związanego z przełączaniem procesów. (zastępując go narzutem pętli zdarzeń)"
   ]
  },
  {
   "cell_type": "markdown",
   "metadata": {
    "slideshow": {
     "slide_type": "subslide"
    }
   },
   "source": [
    "Asynchroniczność jest wspierana bezpośrednio przez kernel linuxowy. AIO (Asynchronous I/O) jest to api pozwalające na operacje wyjścia/wejścia bez blokowania na czas oczekiwania na dane. Zamiast tego, proces może kontynuować pracę, i sprawdzić za jakiś czas czy są dostępne wyniki operacji. \n",
    "\n",
    "Link dla zainteresowanych:\n",
    "- https://oxnz.github.io/2016/10/13/linux-aio/\n",
    "- https://developer.ibm.com/articles/l-async/"
   ]
  },
  {
   "cell_type": "markdown",
   "metadata": {
    "slideshow": {
     "slide_type": "slide"
    }
   },
   "source": [
    "# Jak to robi Python"
   ]
  },
  {
   "cell_type": "markdown",
   "metadata": {
    "slideshow": {
     "slide_type": "subslide"
    }
   },
   "source": [
    "## Asyncio\n",
    "\n",
    "Moduł asyncio jest implementacją asynchronicznych operacji wyjścia/wejścia. Oryginalnie moduł ten był zaimplementowany poprzez wykorzystanie generatorów (`yield` i `yield from`). Obecnie (od Python 3.5+) są dedykowane słowa kluczowe takie jak: `await` i `async`. Dodatkowo składnia i boilerplate aplikacji zmniejszył się drastycznie wraz z wejściem Python 3.7+"
   ]
  },
  {
   "cell_type": "markdown",
   "metadata": {
    "slideshow": {
     "slide_type": "subslide"
    }
   },
   "source": [
    "# UWAGA\n",
    "\n",
    "- W internecie można znaleźć wiele artykułów, tutoriali i szkoleń dotyczących `asyncio` w Python.\n",
    "- Zawsze patrzcie dla której wersji Python powstał artykuł !\n",
    "- Zachęcamy do korzystania z Python w wersji 3.7+ jako że starsze słowa kluczowe (np. `yield from`) są zaplanowane do usunięcia w wesji Python 3.10"
   ]
  },
  {
   "cell_type": "markdown",
   "metadata": {
    "slideshow": {
     "slide_type": "subslide"
    }
   },
   "source": [
    "## W pętli zdarzeń\n",
    "\n",
    "EventLoop jest podstawowym konceptem asynchronicznego programowania. Jest to pętla zdarzeń. Czyli cyklicznie wywoływanych `korutyn`."
   ]
  },
  {
   "cell_type": "markdown",
   "metadata": {
    "slideshow": {
     "slide_type": "subslide"
    }
   },
   "source": [
    "## Przykład z życia"
   ]
  },
  {
   "cell_type": "markdown",
   "metadata": {
    "slideshow": {
     "slide_type": "fragment"
    }
   },
   "source": [
    "Mistrz szachowy Judit Polgár prowadzi partię szachów, w której gra wielu graczy. Ma dwa sposoby prowadzenia rozgrywki: synchronicznie i asynchronicznie.\n",
    "\n",
    "\n",
    "- Założenia:\n",
    "    - 24 przeciwników\n",
    "    - Każdy ruch Judit trwa 5 sekund\n",
    "    - każdy ruch przeciwnika trwa 55 sekund\n",
    "    - Aby rozegrać partię potrzeba średnio 30 par ruchów (60 ruchów łącznie)\n",
    "\n",
    "\n",
    "- Wersja synchroniczna:\n",
    "    - Judit gra jedną grę na raz, nigdy dwie w tym samym czasie, dopóki gra się nie zakończy.\n",
    "    - każda gra trwa (55 + 5) * 30 == 1800 sekund lub 30 minut.\n",
    "    - Cała wystawa trwa 24 * 30 == 720 minut lub 12 godzin.\n",
    "\n",
    "\n",
    "- Wersja asynchroniczna:\n",
    "     - Judit przesuwa się od stołu do stołu, wykonując jeden ruch przy każdym stole.\n",
    "     - Opuszcza stół i pozwala przeciwnikowi wykonać następny ruch w czasie oczekiwania.\n",
    "     - Jeden ruch we wszystkich 24 meczach wylicza się na 24 * 5 == 120 sekund lub 2 minuty.\n",
    "     - Cała partia jest teraz zredukowana do 120 * 30 == 3600 sekund, czyli tylko 1 godzinę."
   ]
  },
  {
   "cell_type": "markdown",
   "metadata": {
    "slideshow": {
     "slide_type": "subslide"
    }
   },
   "source": [
    "## Przykład z kodu"
   ]
  },
  {
   "cell_type": "markdown",
   "metadata": {
    "slideshow": {
     "slide_type": "fragment"
    }
   },
   "source": [
    "Zróbmy AB test pobierania danych z serwera http. Użyjemy strony http://httpbin.org. Dla pełnego efektu potrzebujemy odpowiedzi serwera, która jest stosunkowo długa. http://httpbin.org/delay/1 generuje odpowiedź serwera która jest generowana przez około 1s "
   ]
  },
  {
   "cell_type": "code",
   "execution_count": 3,
   "metadata": {
    "slideshow": {
     "slide_type": "fragment"
    }
   },
   "outputs": [
    {
     "name": "stdout",
     "output_type": "stream",
     "text": [
      "[0, 1, 2, 3, 4, 5, 6, 7, 8, 9]\n",
      "execution time: 12.239115715026855\n"
     ]
    }
   ],
   "source": [
    "import requests\n",
    "import time\n",
    "\n",
    "def make_sync_requests(max, url):\n",
    "    start_time = time.time()\n",
    "\n",
    "    response = []\n",
    "    for i in range(0, max):\n",
    "        requests.get(url)\n",
    "        response.append(i)\n",
    "\n",
    "    print(response)\n",
    "    execution_time = time.time() - start_time\n",
    "    print('execution time: {}'.format(execution_time))\n",
    "\n",
    "make_sync_requests(10, \"http://httpbin.org/delay/1\")"
   ]
  },
  {
   "cell_type": "markdown",
   "metadata": {
    "slideshow": {
     "slide_type": "subslide"
    }
   },
   "source": [
    "## Asynchroniczny request\n",
    "\n",
    "```python\n",
    "import asyncio\n",
    "import time\n",
    "from aiohttp import ClientSession\n",
    "\n",
    "async def make_asyncio_request(url, index, session):\n",
    "    await session.get(url)\n",
    "    return index\n",
    "\n",
    "async def make_asyncio_requests(n, url):\n",
    "    start_time = time.time()\n",
    "    async with ClientSession() as session:\n",
    "        corutines = [make_asyncio_request(url, index, session) for index in range(0, n)]\n",
    "        responses = await asyncio.gather(*corutines)\n",
    "    print(responses)\n",
    "    execution_time = time.time() - start_time\n",
    "    print('execution time: {}'.format(execution_time))\n",
    "\n",
    "async def main():\n",
    "    await make_asyncio_requests(10, \"http://httpbin.org/delay/1\")\n",
    "\n",
    "asyncio.run(main())\n",
    "```"
   ]
  },
  {
   "cell_type": "markdown",
   "metadata": {
    "slideshow": {
     "slide_type": "fragment"
    }
   },
   "source": [
    "### Output\n",
    "```python\n",
    "[0, 1, 2, 3, 4, 5, 6, 7, 8, 9]\n",
    "execution time: 2.561192035675049s\n",
    "[Finished in 2.7s]\n",
    "```"
   ]
  },
  {
   "cell_type": "markdown",
   "metadata": {
    "slideshow": {
     "slide_type": "slide"
    }
   },
   "source": [
    "# Od czego zacząć przygodę z asyncio"
   ]
  },
  {
   "cell_type": "markdown",
   "metadata": {
    "slideshow": {
     "slide_type": "subslide"
    }
   },
   "source": [
    "## Jak uruchomić korutynę"
   ]
  },
  {
   "cell_type": "markdown",
   "metadata": {
    "slideshow": {
     "slide_type": "fragment"
    }
   },
   "source": [
    "```python\n",
    "import asyncio\n",
    "\n",
    "async def main():\n",
    "    await asyncio.sleep(10)\n",
    "\n",
    "asyncio.run(main())\n",
    "```"
   ]
  },
  {
   "cell_type": "markdown",
   "metadata": {
    "slideshow": {
     "slide_type": "subslide"
    }
   },
   "source": [
    "## Asynchroniczne Hello World aka Uruchomienie wielu korutyn i czekanie na ich rezultaty"
   ]
  },
  {
   "cell_type": "markdown",
   "metadata": {
    "slideshow": {
     "slide_type": "fragment"
    }
   },
   "source": [
    "```python\n",
    "import asyncio\n",
    "import time\n",
    "\n",
    "async def count():\n",
    "    print(\"One\")\n",
    "    await asyncio.sleep(1)\n",
    "    print(\"Two\")\n",
    "\n",
    "async def main():\n",
    "    await asyncio.gather(count(), count(), count())\n",
    "\n",
    "s = time.time()\n",
    "asyncio.run(main())\n",
    "t = time.time() - s\n",
    "print(\"time spent: {:0.2f} seconds.\".format(t))\n",
    "```"
   ]
  },
  {
   "cell_type": "markdown",
   "metadata": {
    "slideshow": {
     "slide_type": "subslide"
    }
   },
   "source": [
    "**Results:**\n",
    "```python\n",
    "One\n",
    "One\n",
    "One\n",
    "Two\n",
    "Two\n",
    "Two\n",
    "time spent: 1.00 seconds.\n",
    "[Finished in 1.1s]\n",
    "```"
   ]
  },
  {
   "cell_type": "markdown",
   "metadata": {
    "slideshow": {
     "slide_type": "subslide"
    }
   },
   "source": [
    "## Uruchomienie wielu korutyn"
   ]
  },
  {
   "cell_type": "markdown",
   "metadata": {
    "slideshow": {
     "slide_type": "subslide"
    }
   },
   "source": [
    "```python\n",
    "import time, asyncio\n",
    "start = time.time()\n",
    "\n",
    "def time_log():\n",
    "    return 'at {:1.4f} seconds'.format((time.time() - start))\n",
    "\n",
    "async def cor1():\n",
    "    print('cor1 started work: {}'.format(time_log()))\n",
    "    await asyncio.sleep(2)\n",
    "    print('cor1 finished work: {}'.format(time_log()))\n",
    "\n",
    "async def cor2():\n",
    "    print('cor2 started work: {}'.format(time_log()))\n",
    "    await asyncio.sleep(2)\n",
    "    print('cor2 finished work: {}'.format(time_log()))\n",
    "\n",
    "async def cor3():\n",
    "    print(\"Let's work while the coroutines are blocked, {}\".format(time_log()))\n",
    "    await asyncio.sleep(1)\n",
    "    print(\"Done!\")\n",
    "\n",
    "async def main():\n",
    "    tasks = [cor1(), cor2(), cor3()]\n",
    "    await asyncio.gather(*tasks)\n",
    "\n",
    "asyncio.run(main())\n",
    "```"
   ]
  },
  {
   "cell_type": "markdown",
   "metadata": {
    "slideshow": {
     "slide_type": "subslide"
    }
   },
   "source": [
    "**Results:**\n",
    "```python\n",
    "gr1 started work: at 0.0 seconds\n",
    "gr2 started work: at 0.0 seconds\n",
    "Let's do some stuff while the coroutines are blocked, at 0.0 seconds\n",
    "Done!\n",
    "gr1 ended work: at 2.0 seconds\n",
    "gr2 Ended work: at 2.0 seconds\n",
    "```"
   ]
  },
  {
   "cell_type": "markdown",
   "metadata": {
    "slideshow": {
     "slide_type": "subslide"
    }
   },
   "source": [
    "## Uruchomienie wielu korutyn i wykorzystanie ich rezultatów kiedy to tylko możliwe\n",
    "\n",
    "\n",
    "```python\n",
    "import asyncio\n",
    "\n",
    "async def important_task(index):\n",
    "    print('important_task start executing')\n",
    "    await asyncio.sleep(index)\n",
    "    return index\n",
    "\n",
    "async def main():\n",
    "    corutines = [important_task(index) for index in range(10, 0, -1)]\n",
    "    for i, future in enumerate(asyncio.as_completed(corutines)):\n",
    "        result = await future\n",
    "        print('{} {}'.format(\">>\" * (i + 1), result))\n",
    "\n",
    "asyncio.run(main())\n",
    "```"
   ]
  },
  {
   "cell_type": "markdown",
   "metadata": {
    "slideshow": {
     "slide_type": "subslide"
    }
   },
   "source": [
    "**Results:**\n",
    "```python\n",
    "important_task start executing\n",
    ".... x10\n",
    ">> 1\n",
    ">>>> 2\n",
    ">>>>>> 3\n",
    ">>>>>>>> 4\n",
    ">>>>>>>>>> 5\n",
    ">>>>>>>>>>>> 6\n",
    ">>>>>>>>>>>>>> 7\n",
    ">>>>>>>>>>>>>>>> 8\n",
    ">>>>>>>>>>>>>>>>>> 9\n",
    ">>>>>>>>>>>>>>>>>>>> 10\n",
    "```"
   ]
  },
  {
   "cell_type": "markdown",
   "metadata": {
    "slideshow": {
     "slide_type": "subslide"
    }
   },
   "source": [
    "## as_completed() vs gather()\n",
    "\n",
    "- `gather()` rozpoczyna wszyskie corutyny w kolejności ich zgłoszenia i zwraca wyniki w tej samej kolejności.\n",
    "- `gather()` defacto czeka na wykonanie wszystkich korutyn by zwrócić poprawny wynik\n",
    "- `as_completed()` rozpoczyna wszystkie corutyny \"jak leci\"\n",
    "- `as_completed()` zwraca generator którego zwracane wartości to kolejne wykonane korutyny, nie trzyma kolejności."
   ]
  },
  {
   "cell_type": "markdown",
   "metadata": {
    "slideshow": {
     "slide_type": "subslide"
    }
   },
   "source": [
    "## Łączenie korutyn w łańcuchy (Chaining Coroutines)\n",
    "\n",
    "```python\n",
    "import asyncio\n",
    "import random\n",
    "import time\n",
    "\n",
    "\n",
    "async def randint(a, b):\n",
    "    return random.randint(a, b)\n",
    "\n",
    "\n",
    "async def part1(n):\n",
    "    i = await randint(0, 10)\n",
    "    print(f\"part1({n}) sleeping for {i} seconds.\")\n",
    "    await asyncio.sleep(i)\n",
    "    result = \"result{}-1\".format(n)\n",
    "    print(\"Returning part1({}) == {}.\".format(n, result))\n",
    "    return result\n",
    "\n",
    "\n",
    "async def part2(n, arg):\n",
    "    i = await randint(0, 10)\n",
    "    print(f\"part2{n, arg} sleeping for {i} seconds.\")\n",
    "    await asyncio.sleep(i)\n",
    "    result = \"result{}-2 derived from {}\".format(n, arg)\n",
    "    print(\"Returning part2({},{}) == {}.\".format(n, arg, result))\n",
    "    return result\n",
    "\n",
    "\n",
    "async def chain(n):\n",
    "    start = time.time()\n",
    "    p1 = await part1(n)\n",
    "    p2 = await part2(n, p1)\n",
    "    print(\"-->Chained result{} => {} (took {:0.2f} seconds).\".format(\n",
    "        n, p2, time.time() - start))\n",
    "\n",
    "\n",
    "async def main():\n",
    "    await asyncio.gather(*(chain(n) for n in (1, 2, 3)))\n",
    "\n",
    "s = time.time()\n",
    "asyncio.run(main())\n",
    "t = time.time() - s\n",
    "print(\"time spent: {:0.2f} seconds.\".format(t))\n",
    "```"
   ]
  },
  {
   "cell_type": "markdown",
   "metadata": {
    "slideshow": {
     "slide_type": "subslide"
    }
   },
   "source": [
    "## Mój task jest długi, i blokuje przełączanie pętli\n",
    "\n",
    "Rozwiązaniem jest podział taska na mniejsze kawałki, które będziemy wyowłaywać przez await lub jako osobne taski.\n",
    "Mozna także użyć sztuczki: `await asyncio.sleep(0)`\n",
    "\n",
    "```python\n",
    "async def long_task():\n",
    "    for strategy in strategies:\n",
    "        strategy.make_decision()\n",
    "        await.sleep(0)       \n",
    "```\n",
    "\n",
    "- Nie jest dobrym pomysłem tworzenie korutyn które są czasochłonne z punktu widzenia operacji na CPU.\n",
    "- Taski absorbujące czas wstrzymują całą pętlę do końca ich wykonania kiedy inne korutyny nawet zakończą swoją pracę IO\n",
    "- Jednym z rozwiązań jest delegowanie takich tasków do osobnych wątków (SIC!!)"
   ]
  },
  {
   "cell_type": "markdown",
   "metadata": {
    "slideshow": {
     "slide_type": "subslide"
    }
   },
   "source": [
    "## Gdzie używać `asyncio`\n",
    "\n",
    "- network io, bez znaczenia czy twój program jest serwerem czy klientem\n",
    "- serverless, takich jak sieć typu peer-to-peer, wielu użytkowników, takich jak grupowy czat\n",
    "- jeśli zastanawiamy się nad wielowątkowym programem który wymać będzie bardzo wielu wątków -> użyj `asyncio`\n",
    "    - właściwie nad każdym wielowątkowym programem, debugowanie Race Conditions i problemu dostępu do pamięci nie jest tego warte\n",
    "- wszelkie operacje odczytu / zapisu\n",
    "    - zwłaszcza te w których chcesz naśladować styl „wyślij i zapomnij”, a mniej martwić się o blokowanie tego, z czego czytasz czy do czego piszesz\n"
   ]
  },
  {
   "cell_type": "markdown",
   "metadata": {
    "slideshow": {
     "slide_type": "subslide"
    }
   },
   "source": [
    "## Gdzie na pewno nie używać `asyncio`\n",
    "\n",
    "- Wszystkie jednorodne operacje zachłanne w moc procesora np: mnożenie macierzy, przeszukiwanie wielkich zbiorów danych\n",
    "- Wszędzie tam gdzie pod spodem wykorzystywane są synchroniczne biblioteki\n",
    "    - wiele sterowników do baz danych nie ma odpowiedników asynchronicznych\n",
    "- Jeśli Twoim jedynym pomysłem na asynchroniczność jest wstawianie wszędzie `await` i `async` na siłę. To może w rezultacie spowolnić wykonanie kodu\n",
    "- *EXPERT STUFF* Paradoksalenie nie używać AsyncIO na serwerach które posiadają bardzo dużo rdzeni procesora a nasz program ma ograniczoną ilość RAMu którą może zająć.\n",
    "   "
   ]
  },
  {
   "cell_type": "markdown",
   "metadata": {
    "slideshow": {
     "slide_type": "slide"
    }
   },
   "source": [
    "# Co dalej?\n"
   ]
  },
  {
   "cell_type": "markdown",
   "metadata": {
    "slideshow": {
     "slide_type": "subslide"
    }
   },
   "source": [
    "## Przydatne linki\n",
    "1. https://docs.python.org/3/library/asyncio.html\n",
    "1. https://hackernoon.com/asyncio-for-the-working-python-developer-5c468e6e2e8e\n",
    "1. https://medium.com/python-pandemonium/asyncio-coroutine-patterns-beyond-await-a6121486656f\n",
    "1. https://medium.com/@yeraydiazdiaz/asyncio-coroutine-patterns-errors-and-cancellation-3bb422e961ff\n",
    "1. https://magic.io/blog/asyncpg-1m-rows-from-postgres-to-python/\n",
    "1. https://magic.io/blog/uvloop-blazing-fast-python-networking/\n",
    "1. https://github.com/channelcat/sanic\n",
    "1. http://lucumr.pocoo.org/2016/10/30/i-dont-understand-asyncio/"
   ]
  },
  {
   "cell_type": "markdown",
   "metadata": {
    "slideshow": {
     "slide_type": "subslide"
    }
   },
   "source": [
    "## Włącz tryb debug\n",
    "\n",
    "asyncio domyślnie pracuje w trybie produkcyjnym, by włączyć tryb debug można:\n",
    "  - Możesz ustawić zmienną środowiskową `PYTHONASYNCIODEBUG=1`\n",
    "  - Uruchmoć skrypt pythonowy z parametrem `-X`\n",
    "  - Przekazać `debug=True` w wyołaniu `asyncio.run(debug=True)`\n",
    "  - Dodać w kodzie wywołanie `loop.set_debug()`"
   ]
  },
  {
   "cell_type": "markdown",
   "metadata": {
    "slideshow": {
     "slide_type": "subslide"
    }
   },
   "source": [
    "## Co zyskujesz włączając debug\n",
    "\n",
    "- asyncio sprawdza które `coroutines` zostały zadeklarowane ale nigdy nie użyte, loguje takie przypadki.\n",
    "- zamiast wisieć w nieskończoność wiele API asyncio zwróci błąd (np `loop.call_soon()` czy `loop.call_at()`)\n",
    "- zalogowany zostanie czas połączeń I/O które trwają zdecydowanie za długo\n",
    "- domyślnie zalogowane zostaną też wszystkie callbacki które zajęły więcej niż 100ms\n",
    "\n",
    "Dzięki temu ebugowanie aplikacji staje się zancznie łatwiejsze, asyncio samo podpowiada nam które elementy kodu są potrzebne do przerobienia i zoptymalizowania by cała pętla działała jak najszybciej się da."
   ]
  },
  {
   "cell_type": "markdown",
   "metadata": {
    "slideshow": {
     "slide_type": "subslide"
    }
   },
   "source": [
    "## Asyncio ma przyzwoity domyślny logger\n",
    "\n",
    "Należy tylko pamiętać o ustawieniu poziomu debug.\n",
    "\n",
    "Przykładowa prosta konfiguracja\n",
    "\n",
    "```python\n",
    "import logging\n",
    "formatter = logging.Formatter('%(asctime)s - %(name)s - %(levelname)s - %(message)s')\n",
    "chandler = logging.StreamHandler()\n",
    "chandler.setFormatter(formatter)\n",
    "logger = logging.getLogger()\n",
    "logger.setLevel(logging.DEBUG)\n",
    "logger.addHandler(chandler)\n",
    "```"
   ]
  }
 ],
 "metadata": {
  "kernelspec": {
   "display_name": "Python 3",
   "language": "python",
   "name": "python3"
  },
  "language_info": {
   "codemirror_mode": {
    "name": "ipython",
    "version": 3
   },
   "file_extension": ".py",
   "mimetype": "text/x-python",
   "name": "python",
   "nbconvert_exporter": "python",
   "pygments_lexer": "ipython3",
   "version": "3.7.1"
  }
 },
 "nbformat": 4,
 "nbformat_minor": 2
}
